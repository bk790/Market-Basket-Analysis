{
  "cells": [
    {
      "cell_type": "markdown",
      "id": "invalid-saudi",
      "metadata": {
        "_cell_guid": "b1076dfc-b9ad-4769-8c92-a6c4dae69d19",
        "_uuid": "8f2839f25d086af736a60e9eeb907d3b93b6e0e5",
        "papermill": {
          "duration": 0.021939,
          "end_time": "2022-07-11T09:42:10.370150",
          "exception": false,
          "start_time": "2022-07-11T09:42:10.348211",
          "status": "completed"
        },
        "tags": [],
        "id": "invalid-saudi"
      },
      "source": [
        "# Market Basket Analysis using PySpark\n",
        "\n",
        "\n"
      ]
    },
    {
      "cell_type": "code",
      "execution_count": 26,
      "id": "exclusive-deficit",
      "metadata": {
        "collapsed": true,
        "execution": {
          "iopub.execute_input": "2022-07-11T09:42:10.485788Z",
          "iopub.status.busy": "2022-07-11T09:42:10.485106Z",
          "iopub.status.idle": "2022-07-11T09:43:11.241657Z",
          "shell.execute_reply": "2022-07-11T09:43:11.240078Z",
          "shell.execute_reply.started": "2022-07-11T09:24:37.583860Z"
        },
        "jupyter": {
          "outputs_hidden": true
        },
        "papermill": {
          "duration": 60.781389,
          "end_time": "2022-07-11T09:43:11.241868",
          "exception": false,
          "start_time": "2022-07-11T09:42:10.460479",
          "status": "completed"
        },
        "tags": [],
        "colab": {
          "base_uri": "https://localhost:8080/"
        },
        "id": "exclusive-deficit",
        "outputId": "69c5d524-bcbb-487f-c8ae-07a164ae386d"
      },
      "outputs": [
        {
          "output_type": "stream",
          "name": "stdout",
          "text": [
            "Requirement already satisfied: pyspark in /usr/local/lib/python3.10/dist-packages (3.5.3)\n",
            "Requirement already satisfied: py4j==0.10.9.7 in /usr/local/lib/python3.10/dist-packages (from pyspark) (0.10.9.7)\n",
            "Requirement already satisfied: pyspark_dist_explore in /usr/local/lib/python3.10/dist-packages (0.1.8)\n",
            "Requirement already satisfied: pandas in /usr/local/lib/python3.10/dist-packages (from pyspark_dist_explore) (2.2.2)\n",
            "Requirement already satisfied: numpy in /usr/local/lib/python3.10/dist-packages (from pyspark_dist_explore) (1.26.4)\n",
            "Requirement already satisfied: scipy in /usr/local/lib/python3.10/dist-packages (from pyspark_dist_explore) (1.13.1)\n",
            "Requirement already satisfied: matplotlib in /usr/local/lib/python3.10/dist-packages (from pyspark_dist_explore) (3.8.0)\n",
            "Requirement already satisfied: contourpy>=1.0.1 in /usr/local/lib/python3.10/dist-packages (from matplotlib->pyspark_dist_explore) (1.3.0)\n",
            "Requirement already satisfied: cycler>=0.10 in /usr/local/lib/python3.10/dist-packages (from matplotlib->pyspark_dist_explore) (0.12.1)\n",
            "Requirement already satisfied: fonttools>=4.22.0 in /usr/local/lib/python3.10/dist-packages (from matplotlib->pyspark_dist_explore) (4.54.1)\n",
            "Requirement already satisfied: kiwisolver>=1.0.1 in /usr/local/lib/python3.10/dist-packages (from matplotlib->pyspark_dist_explore) (1.4.7)\n",
            "Requirement already satisfied: packaging>=20.0 in /usr/local/lib/python3.10/dist-packages (from matplotlib->pyspark_dist_explore) (24.1)\n",
            "Requirement already satisfied: pillow>=6.2.0 in /usr/local/lib/python3.10/dist-packages (from matplotlib->pyspark_dist_explore) (10.4.0)\n",
            "Requirement already satisfied: pyparsing>=2.3.1 in /usr/local/lib/python3.10/dist-packages (from matplotlib->pyspark_dist_explore) (3.2.0)\n",
            "Requirement already satisfied: python-dateutil>=2.7 in /usr/local/lib/python3.10/dist-packages (from matplotlib->pyspark_dist_explore) (2.8.2)\n",
            "Requirement already satisfied: pytz>=2020.1 in /usr/local/lib/python3.10/dist-packages (from pandas->pyspark_dist_explore) (2024.2)\n",
            "Requirement already satisfied: tzdata>=2022.7 in /usr/local/lib/python3.10/dist-packages (from pandas->pyspark_dist_explore) (2024.2)\n",
            "Requirement already satisfied: six>=1.5 in /usr/local/lib/python3.10/dist-packages (from python-dateutil>=2.7->matplotlib->pyspark_dist_explore) (1.16.0)\n"
          ]
        }
      ],
      "source": [
        "!pip install pyspark\n",
        "!pip install pyspark_dist_explore"
      ]
    },
    {
      "cell_type": "markdown",
      "id": "insured-sector",
      "metadata": {
        "papermill": {
          "duration": 0.177692,
          "end_time": "2022-07-11T09:43:11.595889",
          "exception": false,
          "start_time": "2022-07-11T09:43:11.418197",
          "status": "completed"
        },
        "tags": [],
        "id": "insured-sector"
      },
      "source": [
        "## Importing libraries\n",
        "\n"
      ]
    },
    {
      "cell_type": "code",
      "execution_count": 27,
      "id": "extensive-simon",
      "metadata": {
        "execution": {
          "iopub.execute_input": "2022-07-11T09:43:11.984297Z",
          "iopub.status.busy": "2022-07-11T09:43:11.983015Z",
          "iopub.status.idle": "2022-07-11T09:43:12.734016Z",
          "shell.execute_reply": "2022-07-11T09:43:12.734545Z",
          "shell.execute_reply.started": "2022-07-11T09:30:51.991839Z"
        },
        "papermill": {
          "duration": 0.96355,
          "end_time": "2022-07-11T09:43:12.734780",
          "exception": false,
          "start_time": "2022-07-11T09:43:11.771230",
          "status": "completed"
        },
        "tags": [],
        "id": "extensive-simon"
      },
      "outputs": [],
      "source": [
        "from pyspark import SparkContext\n",
        "from pyspark.sql import functions as f, SparkSession, Column\n",
        "from pyspark_dist_explore import hist\n",
        "import matplotlib.pyplot as plt\n",
        "from pyspark.ml.fpm import FPGrowth\n",
        "\n"
      ]
    },
    {
      "cell_type": "markdown",
      "id": "difficult-green",
      "metadata": {
        "papermill": {
          "duration": 0.173833,
          "end_time": "2022-07-11T09:43:13.083451",
          "exception": false,
          "start_time": "2022-07-11T09:43:12.909618",
          "status": "completed"
        },
        "tags": [],
        "id": "difficult-green"
      },
      "source": [
        "## Create a spark session\n",
        "\n"
      ]
    },
    {
      "cell_type": "code",
      "execution_count": 28,
      "id": "driving-shirt",
      "metadata": {
        "execution": {
          "iopub.execute_input": "2022-07-11T09:43:13.428082Z",
          "iopub.status.busy": "2022-07-11T09:43:13.426965Z",
          "iopub.status.idle": "2022-07-11T09:43:20.692389Z",
          "shell.execute_reply": "2022-07-11T09:43:20.691383Z",
          "shell.execute_reply.started": "2022-07-11T09:30:57.225296Z"
        },
        "papermill": {
          "duration": 7.439415,
          "end_time": "2022-07-11T09:43:20.692621",
          "exception": false,
          "start_time": "2022-07-11T09:43:13.253206",
          "status": "completed"
        },
        "tags": [],
        "id": "driving-shirt"
      },
      "outputs": [],
      "source": [
        "spark = SparkSession.builder \\\n",
        "    .appName(\"arlUsingPyspark\") \\\n",
        "    .getOrCreate()"
      ]
    },
    {
      "cell_type": "markdown",
      "id": "acquired-weather",
      "metadata": {
        "papermill": {
          "duration": 0.169504,
          "end_time": "2022-07-11T09:43:21.035675",
          "exception": false,
          "start_time": "2022-07-11T09:43:20.866171",
          "status": "completed"
        },
        "tags": [],
        "id": "acquired-weather"
      },
      "source": [
        "# Read the data\n"
      ]
    },
    {
      "cell_type": "code",
      "execution_count": 29,
      "id": "unique-dover",
      "metadata": {
        "execution": {
          "iopub.execute_input": "2022-07-11T09:43:21.382337Z",
          "iopub.status.busy": "2022-07-11T09:43:21.381608Z",
          "iopub.status.idle": "2022-07-11T09:43:29.247425Z",
          "shell.execute_reply": "2022-07-11T09:43:29.246182Z",
          "shell.execute_reply.started": "2022-07-11T09:31:04.745072Z"
        },
        "papermill": {
          "duration": 8.0415,
          "end_time": "2022-07-11T09:43:29.247707",
          "exception": false,
          "start_time": "2022-07-11T09:43:21.206207",
          "status": "completed"
        },
        "tags": [],
        "id": "unique-dover"
      },
      "outputs": [],
      "source": [
        "df1 = spark.read.csv(\"basket.csv\", header=True).withColumn(\"id\", f.monotonically_increasing_id())\n",
        "df2 = spark.read.csv(\"Groceries data.csv\", header=True).withColumn(\"id\", f.monotonically_increasing_id())"
      ]
    },
    {
      "cell_type": "code",
      "execution_count": 30,
      "id": "junior-chicago",
      "metadata": {
        "execution": {
          "iopub.execute_input": "2022-07-11T09:43:29.602420Z",
          "iopub.status.busy": "2022-07-11T09:43:29.601665Z",
          "iopub.status.idle": "2022-07-11T09:43:30.467227Z",
          "shell.execute_reply": "2022-07-11T09:43:30.466330Z",
          "shell.execute_reply.started": "2022-07-11T09:31:32.625100Z"
        },
        "papermill": {
          "duration": 1.041381,
          "end_time": "2022-07-11T09:43:30.467483",
          "exception": false,
          "start_time": "2022-07-11T09:43:29.426102",
          "status": "completed"
        },
        "tags": [],
        "colab": {
          "base_uri": "https://localhost:8080/"
        },
        "id": "junior-chicago",
        "outputId": "54683199-50e0-4c34-e621-a28e5c5a14cf"
      },
      "outputs": [
        {
          "output_type": "stream",
          "name": "stdout",
          "text": [
            "+-----------+------------------+-------------------+------+----+----+----+----+----+----+----+---+\n",
            "|          0|                 1|                  2|     3|   4|   5|   6|   7|   8|   9|  10| id|\n",
            "+-----------+------------------+-------------------+------+----+----+----+----+----+----+----+---+\n",
            "| whole milk|            pastry|        salty snack|  NULL|NULL|NULL|NULL|NULL|NULL|NULL|NULL|  0|\n",
            "|    sausage|        whole milk|semi-finished bread|yogurt|NULL|NULL|NULL|NULL|NULL|NULL|NULL|  1|\n",
            "|       soda|pickled vegetables|               NULL|  NULL|NULL|NULL|NULL|NULL|NULL|NULL|NULL|  2|\n",
            "|canned beer|   misc. beverages|               NULL|  NULL|NULL|NULL|NULL|NULL|NULL|NULL|NULL|  3|\n",
            "|    sausage|  hygiene articles|               NULL|  NULL|NULL|NULL|NULL|NULL|NULL|NULL|NULL|  4|\n",
            "+-----------+------------------+-------------------+------+----+----+----+----+----+----+----+---+\n",
            "only showing top 5 rows\n",
            "\n",
            "+-------------+----------+----------------+----+-----+---+-----------+---+\n",
            "|Member_number|      Date| itemDescription|year|month|day|day_of_week| id|\n",
            "+-------------+----------+----------------+----+-----+---+-----------+---+\n",
            "|         1808|2015-07-21|  tropical fruit|2015|    7| 21|          1|  0|\n",
            "|         2552|2015-05-01|      whole milk|2015|    5|  1|          4|  1|\n",
            "|         2300|2015-09-19|       pip fruit|2015|    9| 19|          5|  2|\n",
            "|         1187|2015-12-12|other vegetables|2015|   12| 12|          5|  3|\n",
            "|         3037|2015-01-02|      whole milk|2015|    1|  2|          4|  4|\n",
            "+-------------+----------+----------------+----+-----+---+-----------+---+\n",
            "only showing top 5 rows\n",
            "\n"
          ]
        }
      ],
      "source": [
        "\n",
        "df1.show(5)\n",
        "df2.show(5)"
      ]
    },
    {
      "cell_type": "code",
      "execution_count": 31,
      "id": "yellow-halloween",
      "metadata": {
        "execution": {
          "iopub.execute_input": "2022-07-11T09:43:31.240128Z",
          "iopub.status.busy": "2022-07-11T09:43:31.239354Z",
          "iopub.status.idle": "2022-07-11T09:43:31.255982Z",
          "shell.execute_reply": "2022-07-11T09:43:31.256933Z",
          "shell.execute_reply.started": "2022-07-11T09:31:50.269610Z"
        },
        "papermill": {
          "duration": 0.195898,
          "end_time": "2022-07-11T09:43:31.257245",
          "exception": false,
          "start_time": "2022-07-11T09:43:31.061347",
          "status": "completed"
        },
        "tags": [],
        "colab": {
          "base_uri": "https://localhost:8080/"
        },
        "id": "yellow-halloween",
        "outputId": "460c8b44-5f15-421d-c9cf-1e6b05df24b8"
      },
      "outputs": [
        {
          "output_type": "stream",
          "name": "stdout",
          "text": [
            "root\n",
            " |-- 0: string (nullable = true)\n",
            " |-- 1: string (nullable = true)\n",
            " |-- 2: string (nullable = true)\n",
            " |-- 3: string (nullable = true)\n",
            " |-- 4: string (nullable = true)\n",
            " |-- 5: string (nullable = true)\n",
            " |-- 6: string (nullable = true)\n",
            " |-- 7: string (nullable = true)\n",
            " |-- 8: string (nullable = true)\n",
            " |-- 9: string (nullable = true)\n",
            " |-- 10: string (nullable = true)\n",
            " |-- id: long (nullable = false)\n",
            "\n",
            "root\n",
            " |-- Member_number: string (nullable = true)\n",
            " |-- Date: string (nullable = true)\n",
            " |-- itemDescription: string (nullable = true)\n",
            " |-- year: string (nullable = true)\n",
            " |-- month: string (nullable = true)\n",
            " |-- day: string (nullable = true)\n",
            " |-- day_of_week: string (nullable = true)\n",
            " |-- id: long (nullable = false)\n",
            "\n"
          ]
        }
      ],
      "source": [
        "# printSchema() shows the structure of the dataframe.\n",
        "df1.printSchema()\n",
        "df2.printSchema()"
      ]
    },
    {
      "cell_type": "markdown",
      "id": "loved-siemens",
      "metadata": {
        "papermill": {
          "duration": 0.174239,
          "end_time": "2022-07-11T09:43:31.605575",
          "exception": false,
          "start_time": "2022-07-11T09:43:31.431336",
          "status": "completed"
        },
        "tags": [],
        "id": "loved-siemens"
      },
      "source": [
        "# Baskets per customer\n",
        "\n"
      ]
    },
    {
      "cell_type": "code",
      "execution_count": 32,
      "id": "challenging-sandwich",
      "metadata": {
        "execution": {
          "iopub.execute_input": "2022-07-11T09:43:31.965824Z",
          "iopub.status.busy": "2022-07-11T09:43:31.964755Z",
          "iopub.status.idle": "2022-07-11T09:43:33.883742Z",
          "shell.execute_reply": "2022-07-11T09:43:33.882703Z",
          "shell.execute_reply.started": "2022-07-11T09:33:12.865891Z"
        },
        "papermill": {
          "duration": 2.108782,
          "end_time": "2022-07-11T09:43:33.883989",
          "exception": false,
          "start_time": "2022-07-11T09:43:31.775207",
          "status": "completed"
        },
        "tags": [],
        "colab": {
          "base_uri": "https://localhost:8080/"
        },
        "id": "challenging-sandwich",
        "outputId": "4bc19b0d-2d91-41a7-d943-b262532ae09e"
      },
      "outputs": [
        {
          "output_type": "stream",
          "name": "stdout",
          "text": [
            "+-------------+-----+\n",
            "|Member_number|count|\n",
            "+-------------+-----+\n",
            "|         2904|   10|\n",
            "|         3959|   14|\n",
            "|         2294|   23|\n",
            "|         4032|    4|\n",
            "|         1512|   10|\n",
            "+-------------+-----+\n",
            "only showing top 5 rows\n",
            "\n"
          ]
        }
      ],
      "source": [
        "num_baskets = df2.groupBy(\"Member_number\").count()\n",
        "num_baskets.show(5)"
      ]
    },
    {
      "cell_type": "markdown",
      "id": "voluntary-premiere",
      "metadata": {
        "papermill": {
          "duration": 0.191814,
          "end_time": "2022-07-11T09:43:34.358828",
          "exception": false,
          "start_time": "2022-07-11T09:43:34.167014",
          "status": "completed"
        },
        "tags": [],
        "id": "voluntary-premiere"
      },
      "source": [
        "# The distribution of the number of baskets\n",
        "\n"
      ]
    },
    {
      "cell_type": "code",
      "execution_count": 33,
      "id": "embedded-reply",
      "metadata": {
        "execution": {
          "iopub.execute_input": "2022-07-11T09:43:34.710350Z",
          "iopub.status.busy": "2022-07-11T09:43:34.709194Z",
          "iopub.status.idle": "2022-07-11T09:43:37.053171Z",
          "shell.execute_reply": "2022-07-11T09:43:37.052041Z",
          "shell.execute_reply.started": "2021-07-04T09:52:50.195785Z"
        },
        "papermill": {
          "duration": 2.51904,
          "end_time": "2022-07-11T09:43:37.053373",
          "exception": false,
          "start_time": "2022-07-11T09:43:34.534333",
          "status": "completed"
        },
        "tags": [],
        "colab": {
          "base_uri": "https://localhost:8080/",
          "height": 621
        },
        "id": "embedded-reply",
        "outputId": "471931e9-a687-4f50-b5d7-d3d0f562ebbf"
      },
      "outputs": [
        {
          "output_type": "execute_result",
          "data": {
            "text/plain": [
              "(array([302., 328., 178., 371., 237., 341., 251., 538., 252., 192., 179.,\n",
              "        144., 136., 109.,  69., 110.,  49.,  23.,  29.,  14.,  11.,   9.,\n",
              "         13.,   4.,   1.,   4.,   0.,   3.,   0.,   1.]),\n",
              " array([ 2.        ,  3.13333333,  4.26666667,  5.4       ,  6.53333333,\n",
              "         7.66666667,  8.8       ,  9.93333333, 11.06666667, 12.2       ,\n",
              "        13.33333333, 14.46666667, 15.6       , 16.73333333, 17.86666667,\n",
              "        19.        , 20.13333333, 21.26666667, 22.4       , 23.53333333,\n",
              "        24.66666667, 25.8       , 26.93333333, 28.06666667, 29.2       ,\n",
              "        30.33333333, 31.46666667, 32.6       , 33.73333333, 34.86666667,\n",
              "        36.        ]),\n",
              " <BarContainer object of 30 artists>)"
            ]
          },
          "metadata": {},
          "execution_count": 33
        },
        {
          "output_type": "display_data",
          "data": {
            "text/plain": [
              "<Figure size 640x480 with 1 Axes>"
            ],
            "image/png": "[encoded data removed]"
          },
          "metadata": {}
        }
      ],
      "source": [
        "fig, ax = plt.subplots()\n",
        "\n",
        "hist(ax, num_baskets.select('count'), bins = 30, color=['blue'])"
      ]
    },
    {
      "cell_type": "markdown",
      "id": "qualified-neighborhood",
      "metadata": {
        "papermill": {
          "duration": 0.176517,
          "end_time": "2022-07-11T09:43:37.424663",
          "exception": false,
          "start_time": "2022-07-11T09:43:37.248146",
          "status": "completed"
        },
        "tags": [],
        "id": "qualified-neighborhood"
      },
      "source": [
        "#  implementation of FPGrowth\n",
        "\n"
      ]
    },
    {
      "cell_type": "code",
      "execution_count": 34,
      "id": "celtic-uganda",
      "metadata": {
        "execution": {
          "iopub.execute_input": "2022-07-11T09:43:37.771272Z",
          "iopub.status.busy": "2022-07-11T09:43:37.770543Z",
          "iopub.status.idle": "2022-07-11T09:43:38.059511Z",
          "shell.execute_reply": "2022-07-11T09:43:38.058553Z",
          "shell.execute_reply.started": "2022-07-11T09:35:03.693634Z"
        },
        "papermill": {
          "duration": 0.465601,
          "end_time": "2022-07-11T09:43:38.059790",
          "exception": false,
          "start_time": "2022-07-11T09:43:37.594189",
          "status": "completed"
        },
        "tags": [],
        "colab": {
          "base_uri": "https://localhost:8080/"
        },
        "id": "celtic-uganda",
        "outputId": "cdd051ec-fc4a-4816-874d-b1d7b7da3c17"
      },
      "outputs": [
        {
          "output_type": "stream",
          "name": "stdout",
          "text": [
            "root\n",
            " |-- id: long (nullable = false)\n",
            " |-- basket: array (nullable = false)\n",
            " |    |-- element: string (containsNull = true)\n",
            "\n",
            "+---+--------------------------------------------------------------------------------------------+\n",
            "|id |basket                                                                                      |\n",
            "+---+--------------------------------------------------------------------------------------------+\n",
            "|0  |[whole milk, pastry, salty snack, NULL, NULL, NULL, NULL, NULL, NULL, NULL, NULL]           |\n",
            "|1  |[sausage, whole milk, semi-finished bread, yogurt, NULL, NULL, NULL, NULL, NULL, NULL, NULL]|\n",
            "|2  |[soda, pickled vegetables, NULL, NULL, NULL, NULL, NULL, NULL, NULL, NULL, NULL]            |\n",
            "+---+--------------------------------------------------------------------------------------------+\n",
            "only showing top 3 rows\n",
            "\n"
          ]
        }
      ],
      "source": [
        "df_basket = df1.select(\"id\", f.array([df1[c] for c in df1.columns[:11]]).alias(\"basket\"))\n",
        "df_basket.printSchema()\n",
        "df_basket.show(3, False)"
      ]
    },
    {
      "cell_type": "markdown",
      "id": "personalized-importance",
      "metadata": {
        "papermill": {
          "duration": 0.17694,
          "end_time": "2022-07-11T09:43:38.479650",
          "exception": false,
          "start_time": "2022-07-11T09:43:38.302710",
          "status": "completed"
        },
        "tags": [],
        "id": "personalized-importance"
      },
      "source": [
        "### Remove null values"
      ]
    },
    {
      "cell_type": "code",
      "execution_count": 35,
      "id": "under-reminder",
      "metadata": {
        "execution": {
          "iopub.execute_input": "2022-07-11T09:43:38.882050Z",
          "iopub.status.busy": "2022-07-11T09:43:38.881279Z",
          "iopub.status.idle": "2022-07-11T09:43:39.220453Z",
          "shell.execute_reply": "2022-07-11T09:43:39.219408Z",
          "shell.execute_reply.started": "2022-07-11T09:35:30.588071Z"
        },
        "papermill": {
          "duration": 0.521651,
          "end_time": "2022-07-11T09:43:39.220703",
          "exception": false,
          "start_time": "2022-07-11T09:43:38.699052",
          "status": "completed"
        },
        "tags": [],
        "colab": {
          "base_uri": "https://localhost:8080/"
        },
        "id": "under-reminder",
        "outputId": "ad90c157-4c7d-4820-89b5-157f621301b8"
      },
      "outputs": [
        {
          "output_type": "stream",
          "name": "stdout",
          "text": [
            "+---+--------------------------------------------------+\n",
            "|id |basket                                            |\n",
            "+---+--------------------------------------------------+\n",
            "|0  |[whole milk, pastry, salty snack]                 |\n",
            "|1  |[sausage, whole milk, semi-finished bread, yogurt]|\n",
            "|2  |[soda, pickled vegetables]                        |\n",
            "+---+--------------------------------------------------+\n",
            "only showing top 3 rows\n",
            "\n"
          ]
        }
      ],
      "source": [
        "df_aggregated = df_basket.select(\"id\", f.array_except(\"basket\", f.array(f.lit(None))).alias(\"basket\"))\n",
        "df_aggregated.show(3, False)"
      ]
    },
    {
      "cell_type": "markdown",
      "id": "unnecessary-antique",
      "metadata": {
        "papermill": {
          "duration": 0.167719,
          "end_time": "2022-07-11T09:43:39.585152",
          "exception": false,
          "start_time": "2022-07-11T09:43:39.417433",
          "status": "completed"
        },
        "tags": [],
        "id": "unnecessary-antique"
      },
      "source": [
        "## Hyperparameters\n",
        "\n",
        "* minSupport - The minimum support of an item to be considered in a frequent itemset.\n",
        "* minConfidence - The minimum confidence for generating an association rule from an itemset.\n",
        "* numPartitions - The number of partitions used to distribute the work. This is Spark-specific.\n",
        "\n",
        ""
      ]
    },
    {
      "cell_type": "code",
      "execution_count": 36,
      "id": "floating-stress",
      "metadata": {
        "execution": {
          "iopub.execute_input": "2022-07-11T09:43:39.929317Z",
          "iopub.status.busy": "2022-07-11T09:43:39.928224Z",
          "iopub.status.idle": "2022-07-11T09:43:41.351467Z",
          "shell.execute_reply": "2022-07-11T09:43:41.353201Z",
          "shell.execute_reply.started": "2022-07-11T09:35:46.589762Z"
        },
        "papermill": {
          "duration": 1.600979,
          "end_time": "2022-07-11T09:43:41.353520",
          "exception": false,
          "start_time": "2022-07-11T09:43:39.752541",
          "status": "completed"
        },
        "tags": [],
        "id": "floating-stress"
      },
      "outputs": [],
      "source": [
        "fp = FPGrowth(minSupport=0.001, minConfidence=0.001, itemsCol='basket', predictionCol='prediction')\n",
        "model = fp.fit(df_aggregated)"
      ]
    },
    {
      "cell_type": "code",
      "execution_count": 37,
      "id": "curious-summer",
      "metadata": {
        "execution": {
          "iopub.execute_input": "2022-07-11T09:43:41.708175Z",
          "iopub.status.busy": "2022-07-11T09:43:41.706028Z",
          "iopub.status.idle": "2022-07-11T09:43:43.268389Z",
          "shell.execute_reply": "2022-07-11T09:43:43.267644Z",
          "shell.execute_reply.started": "2022-07-11T09:35:50.527409Z"
        },
        "papermill": {
          "duration": 1.735533,
          "end_time": "2022-07-11T09:43:43.268545",
          "exception": false,
          "start_time": "2022-07-11T09:43:41.533012",
          "status": "completed"
        },
        "tags": [],
        "colab": {
          "base_uri": "https://localhost:8080/"
        },
        "id": "curious-summer",
        "outputId": "49b8ab46-313d-4710-ddae-8a668dd71d27"
      },
      "outputs": [
        {
          "output_type": "stream",
          "name": "stdout",
          "text": [
            "+------------------------+----+\n",
            "|items                   |freq|\n",
            "+------------------------+----+\n",
            "|[cocoa drinks]          |16  |\n",
            "|[canned fruit]          |21  |\n",
            "|[specialty cheese]      |72  |\n",
            "|[chocolate marshmallow] |60  |\n",
            "|[pet care]              |85  |\n",
            "|[house keeping products]|45  |\n",
            "|[jam]                   |34  |\n",
            "|[light bulbs]           |29  |\n",
            "|[beef]                  |508 |\n",
            "|[beef, frankfurter]     |15  |\n",
            "+------------------------+----+\n",
            "only showing top 10 rows\n",
            "\n"
          ]
        }
      ],
      "source": [
        "\n",
        "model.freqItemsets.show(10, False)"
      ]
    },
    {
      "cell_type": "code",
      "execution_count": 38,
      "id": "closing-organization",
      "metadata": {
        "execution": {
          "iopub.execute_input": "2022-07-11T09:43:43.814036Z",
          "iopub.status.busy": "2022-07-11T09:43:43.812968Z",
          "iopub.status.idle": "2022-07-11T09:43:44.889923Z",
          "shell.execute_reply": "2022-07-11T09:43:44.888918Z",
          "shell.execute_reply.started": "2022-07-11T09:40:14.888228Z"
        },
        "papermill": {
          "duration": 1.349187,
          "end_time": "2022-07-11T09:43:44.890107",
          "exception": false,
          "start_time": "2022-07-11T09:43:43.540920",
          "status": "completed"
        },
        "tags": [],
        "colab": {
          "base_uri": "https://localhost:8080/"
        },
        "id": "closing-organization",
        "outputId": "1226c302-981e-4caa-f5d8-a999e6611b37"
      },
      "outputs": [
        {
          "output_type": "stream",
          "name": "stdout",
          "text": [
            "+---------------------+------------+-------------------+------------------+---------------------+\n",
            "|antecedent           |consequent  |confidence         |lift              |support              |\n",
            "+---------------------+------------+-------------------+------------------+---------------------+\n",
            "|[bottled beer]       |[whole milk]|0.15781710914454278|0.9993302598941151|0.007150972398583172 |\n",
            "|[detergent]          |[whole milk]|0.16279069767441862|1.030824041177455 |0.001403461872619127 |\n",
            "|[semi-finished bread]|[whole milk]|0.176056338028169  |1.1148247930239072|0.001670787943594199 |\n",
            "|[sausage, rolls/buns]|[whole milk]|0.2125             |1.345593525179856 |0.0011361358016440553|\n",
            "|[sausage, soda]      |[whole milk]|0.1797752808988764 |1.1383739010113787|0.0010693042839002875|\n",
            "|[ham]                |[whole milk]|0.16015625         |1.0141421789039358|0.0027400922274944863|\n",
            "|[frozen fish]        |[whole milk]|0.1568627450980392 |0.9932870312746344|0.0010693042839002875|\n",
            "|[sausage, whole milk]|[yogurt]    |0.16417910447761194|1.9117602648237413|0.0014702933903628951|\n",
            "|[sausage, yogurt]    |[whole milk]|0.2558139534883721 |1.6198663504217148|0.0014702933903628951|\n",
            "|[yogurt, rolls/buns] |[whole milk]|0.17094017094017094|1.0824281751069733|0.0013366303548753592|\n",
            "+---------------------+------------+-------------------+------------------+---------------------+\n",
            "\n"
          ]
        }
      ],
      "source": [
        "# Show the rules\n",
        "model.associationRules.filter(model.associationRules.confidence>0.15).show(20, False)"
      ]
    },
    {
      "cell_type": "markdown",
      "id": "entire-darwin",
      "metadata": {
        "papermill": {
          "duration": 0.173733,
          "end_time": "2022-07-11T09:43:45.249247",
          "exception": false,
          "start_time": "2022-07-11T09:43:45.075514",
          "status": "completed"
        },
        "tags": [],
        "id": "entire-darwin"
      },
      "source": [
        "## Prediction based on the generated association rules\n"
      ]
    },
    {
      "cell_type": "code",
      "execution_count": 39,
      "id": "excessive-horizon",
      "metadata": {
        "execution": {
          "iopub.execute_input": "2022-07-11T09:43:45.605778Z",
          "iopub.status.busy": "2022-07-11T09:43:45.604965Z",
          "iopub.status.idle": "2022-07-11T09:43:46.130285Z",
          "shell.execute_reply": "2022-07-11T09:43:46.129316Z",
          "shell.execute_reply.started": "2022-07-11T09:40:27.782158Z"
        },
        "papermill": {
          "duration": 0.702297,
          "end_time": "2022-07-11T09:43:46.130513",
          "exception": false,
          "start_time": "2022-07-11T09:43:45.428216",
          "status": "completed"
        },
        "tags": [],
        "colab": {
          "base_uri": "https://localhost:8080/"
        },
        "id": "excessive-horizon",
        "outputId": "25d0ea0e-2312-4aee-f02b-2afa1b175b3d"
      },
      "outputs": [
        {
          "output_type": "stream",
          "name": "stdout",
          "text": [
            "root\n",
            " |-- basket: array (nullable = true)\n",
            " |    |-- element: string (containsNull = true)\n",
            "\n",
            "+-----------------------------+\n",
            "|basket                       |\n",
            "+-----------------------------+\n",
            "|[ham, yogurt, light bulbs]   |\n",
            "|[jam, cocoa drinks, pet care]|\n",
            "+-----------------------------+\n",
            "\n"
          ]
        }
      ],
      "source": [
        "# Create a PySpark dataframe\n",
        "columns = ['basket']\n",
        "new_data = [(['ham', 'yogurt', 'light bulbs'],), (['jam', 'cocoa drinks', 'pet care'],)]\n",
        "rdd = spark.sparkContext.parallelize(new_data)\n",
        "new_df = rdd.toDF(columns)\n",
        "new_df.printSchema()\n",
        "new_df.show(2,False)"
      ]
    },
    {
      "cell_type": "markdown",
      "id": "every-treaty",
      "metadata": {
        "papermill": {
          "duration": 0.170707,
          "end_time": "2022-07-11T09:43:46.476281",
          "exception": false,
          "start_time": "2022-07-11T09:43:46.305574",
          "status": "completed"
        },
        "tags": [],
        "id": "every-treaty"
      },
      "source": [
        "# Prediction\n",
        "\n"
      ]
    },
    {
      "cell_type": "code",
      "execution_count": 40,
      "id": "specialized-medicine",
      "metadata": {
        "execution": {
          "iopub.execute_input": "2022-07-11T09:43:46.819525Z",
          "iopub.status.busy": "2022-07-11T09:43:46.818374Z",
          "iopub.status.idle": "2022-07-11T09:43:47.507518Z",
          "shell.execute_reply": "2022-07-11T09:43:47.506530Z",
          "shell.execute_reply.started": "2022-07-11T09:40:41.797492Z"
        },
        "papermill": {
          "duration": 0.863093,
          "end_time": "2022-07-11T09:43:47.507757",
          "exception": false,
          "start_time": "2022-07-11T09:43:46.644664",
          "status": "completed"
        },
        "tags": [],
        "colab": {
          "base_uri": "https://localhost:8080/"
        },
        "id": "specialized-medicine",
        "outputId": "ff5d7398-9881-4a2a-e6c8-8f0110746575"
      },
      "outputs": [
        {
          "output_type": "stream",
          "name": "stdout",
          "text": [
            "+-----------------------------+-------------------------------------------------------------------------------------------------------------------------------------------------------------------------------------------------------------------------------------------------------------------------------------------------------------------------------------------------------------------------------------------------------------------------------------------------------------------------------------------------------------------------------------------------------------------------------------------------------------------------------------------------+\n",
            "|basket                       |prediction                                                                                                                                                                                                                                                                                                                                                                                                                                                                                                                                                                                                                                       |\n",
            "+-----------------------------+-------------------------------------------------------------------------------------------------------------------------------------------------------------------------------------------------------------------------------------------------------------------------------------------------------------------------------------------------------------------------------------------------------------------------------------------------------------------------------------------------------------------------------------------------------------------------------------------------------------------------------------------------+\n",
            "|[ham, yogurt, light bulbs]   |[beef, oil, detergent, chocolate, candy, berries, frankfurter, sausage, coffee, pip fruit, white bread, salty snack, domestic eggs, root vegetables, bottled beer, specialty bar, long life bakery product, rolls/buns, other vegetables, soda, whole milk, canned beer, fruit/vegetable juice, dessert, newspapers, bottled water, margarine, hamburger meat, pastry, onions, pork, chicken, herbs, soft cheese, frozen meals, frozen vegetables, UHT-milk, brown bread, citrus fruit, butter, misc. beverages, chewing gum, shopping bags, cream cheese , waffles, whipped/sour cream, butter milk, hard cheese, napkins, curd, tropical fruit]|\n",
            "|[jam, cocoa drinks, pet care]|[]                                                                                                                                                                                                                                                                                                                                                                                                                                                                                                                                                                                                                                               |\n",
            "+-----------------------------+-------------------------------------------------------------------------------------------------------------------------------------------------------------------------------------------------------------------------------------------------------------------------------------------------------------------------------------------------------------------------------------------------------------------------------------------------------------------------------------------------------------------------------------------------------------------------------------------------------------------------------------------------+\n",
            "\n"
          ]
        }
      ],
      "source": [
        "model.transform(new_df).show(5, False)"
      ]
    },
    {
      "cell_type": "code",
      "execution_count": 40,
      "id": "conventional-palace",
      "metadata": {
        "papermill": {
          "duration": 0.172155,
          "end_time": "2022-07-11T09:43:47.852077",
          "exception": false,
          "start_time": "2022-07-11T09:43:47.679922",
          "status": "completed"
        },
        "tags": [],
        "id": "conventional-palace"
      },
      "outputs": [],
      "source": []
    }
  ],
  "metadata": {
    "kernelspec": {
      "display_name": "Python 3",
      "language": "python",
      "name": "python3"
    },
    "language_info": {
      "codemirror_mode": {
        "name": "ipython",
        "version": 3
      },
      "file_extension": ".py",
      "mimetype": "text/x-python",
      "name": "python",
      "nbconvert_exporter": "python",
      "pygments_lexer": "ipython3",
      "version": "3.7.10"
    },
    "papermill": {
      "default_parameters": {},
      "duration": 109.119384,
      "end_time": "2022-07-11T09:43:50.051935",
      "environment_variables": {},
      "exception": null,
      "input_path": "__notebook__.ipynb",
      "output_path": "__notebook__.ipynb",
      "parameters": {},
      "start_time": "2022-07-11T09:42:00.932551",
      "version": "2.3.3"
    },
    "colab": {
      "provenance": []
    }
  },
  "nbformat": 4,
  "nbformat_minor": 5
}